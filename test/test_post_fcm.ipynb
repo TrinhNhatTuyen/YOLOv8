{
 "cells": [
  {
   "cell_type": "code",
   "execution_count": 5,
   "metadata": {},
   "outputs": [
    {
     "data": {
      "text/plain": [
       "(2, 3, 3)"
      ]
     },
     "execution_count": 5,
     "metadata": {},
     "output_type": "execute_result"
    }
   ],
   "source": [
    "a.shape"
   ]
  },
  {
   "cell_type": "code",
   "execution_count": 1,
   "metadata": {},
   "outputs": [
    {
     "name": "stdout",
     "output_type": "stream",
     "text": [
      "Successfully sent message: <firebase_admin.messaging.BatchResponse object at 0x000001D5FAF57130>\n"
     ]
    }
   ],
   "source": [
    "import firebase_admin, cv2, requests, datetime\n",
    "from firebase_admin import credentials, messaging\n",
    "\n",
    "# Kiểm tra xem Firebase đã được khởi tạo chưa\n",
    "if not firebase_admin._apps:\n",
    "    # Nếu Firebase chưa được khởi tạo, thì khởi tạo nó\n",
    "    cred = credentials.Certificate('D:/Code/Pose/YOLOv8/test/ngocvinaai-firebase-adminsdk-57cev-b988d1a956.json')\n",
    "    firebase_admin.initialize_app(cred)\n",
    "    \n",
    "fcm = [\n",
    "        'cT6YQTV9T_-YCWZVhSND3O:APA91bEa7HMti02U9X98GtXsoMycZ_4LhMsYCwEQiIHpgBXQ0xIAtbkBB9HrlIlE8j38tHGF8u2xUdeT4JJm2Ex9bejujxxL86HpZp8PqNd_5R-MzIVYMaFFoUdh5oLhykLfY-JDiCQn',\n",
    "        # 'dHep6NaQS_O4Nd--QnXYLg:APA91bFMmPTve1Z9eaMQOuxUVWiFdg9tSPH9snLsB87DZBPu1tLeNoCQfREGWe93wXLrqu8sJ8dICyxsp_lleAvH595vqV4CnJBLdksY5rI3lyq7hhxzoLPDSqKbhKr9xOG7WlFdyOaz',\n",
    "        # 'dHep6NaQS_O4Nd--QnXYLg:APA91bHAU70Z92ssdNrOKzaPbK-pRl__xmbkXcyc15eurAfyYfAqPf2sLWZ3gWw7kNXvBq-kJqEheqShqynlt7_iaZFkFc-2GLXX764yLGUeVbqZXinEno_HVB-Q6f7XFmMjhXnkUsqD',\n",
    "        # 'dSZbYbanSl-pIr8eBcL2KN:APA91bGibdhvMKvh3XJZ6MPGktvjkrvmtbj5h7G7Ih0nb5gw9tXhtuMLPwkmThHXyNf0rM5hw6QKZY64KHvb0Uv8enPJ73Rlf48gle2KAH46tHIMvgdb2-S1SACPWZjvraplqQSQsh80',\n",
    "        ]\n",
    "\n",
    "image_url = 'https://cdn.pixabay.com/photo/2023/09/04/08/54/sea-lion-8232312_1280.jpg'\n",
    "image_url = 'https://i.pinimg.com/564x/62/63/8e/62638ed306f103cbbc4fb6110cc80805.jpg'\n",
    "image_url = 'https://mcdn.coolmate.me/image/March2023/meme-meo-khoc-1424_706.jpg'\n",
    "current_time = datetime.datetime.now()\n",
    "formatted_time = current_time.strftime(\"%Hh%M'%S\\\" %d-%m-%Y\")\n",
    "multicast_message = messaging.MulticastMessage(\n",
    "    # Cấu hình thông báo cho thiết bị Android\n",
    "    # android=messaging.AndroidConfig(\n",
    "    #     priority='high',\n",
    "    #     notification=messaging.AndroidNotification(\n",
    "    #         # default_vibrate_timings=False,\n",
    "    #         # vibrate_timings_millis=[0, 200, 100, 200, 100, 200],\n",
    "    #         # default_sound=False,\n",
    "    #         # sound='alert_sound',\n",
    "    #         image=image_url,\n",
    "    #         # channel_id='custom_channel'\n",
    "    #     )\n",
    "    # ),\n",
    "    # Tạo nội dung thông báo\n",
    "    notification=messaging.Notification(\n",
    "        title='Đang Test',\n",
    "        # body=f'Nhà đã bị trộm :(\\nlúc {formatted_time}'\n",
    "        body=f'Mở khóa (34.97%) lúc {formatted_time}'\n",
    "    ),\n",
    "    # Danh sách các mã thông báo gửi đến\n",
    "    tokens=fcm\n",
    ")\n",
    "\n",
    "# Gửi thông báo đến thiết bị cụ thể\n",
    "response = messaging.send_multicast(multicast_message)\n",
    "\n",
    "print('Successfully sent message:', response)\n",
    "\n"
   ]
  },
  {
   "cell_type": "code",
   "execution_count": 4,
   "metadata": {},
   "outputs": [
    {
     "name": "stdout",
     "output_type": "stream",
     "text": [
      "Thông báo đẩy đã được gửi thành công.\n"
     ]
    }
   ],
   "source": [
    "def post_alert(fcm_list, title, body, sound_url=None, image_url=None):\n",
    "    for fcm in fcm_list:\n",
    "        # Đường dẫn API FCM\n",
    "        url = 'https://fcm.googleapis.com/fcm/send'\n",
    "        \n",
    "        # Đặt thông báo đẩy\n",
    "        payload = {\n",
    "            'to': fcm,\n",
    "            'notification': {\n",
    "                'title': title,\n",
    "                'body': body,\n",
    "                'sound': sound_url,\n",
    "                'image': image_url,\n",
    "                'color': '#614EEC',\n",
    "            },\n",
    "            # 'image': image_url,\n",
    "\n",
    "        }\n",
    "        \n",
    "        # Thêm dữ liệu tùy chỉnh (nếu có)\n",
    "        if sound_url:\n",
    "            payload['notification']['sound'] = sound_url\n",
    "        \n",
    "        # Đặt tiêu đề của thông báo gửi tới FCM\n",
    "        headers = {\n",
    "            'Authorization': 'Key=AAAAUM0_kA0:APA91bFq6fvEmRIHZrF4VYTpTcsZHDo_bXvfm1jearG3A8BuNh_pEHtQtYhfGkbDkzsPm_lEwSh-t1LKB50c89wTaEs6N_RAqw7-JhNoUgmA_S5XyNA63E9MICw19QGwCSshw_o_sefG',\n",
    "            'Content-Type': 'application/json'\n",
    "        }\n",
    "        \n",
    "        response = requests.post(url, json=payload, headers=headers)\n",
    "        if response.status_code == 200:\n",
    "            print('Thông báo đẩy đã được gửi thành công.')\n",
    "        else:\n",
    "            print('Gửi thông báo đẩy không thành công. Mã lỗi:', response.status_code)\n",
    "            \n",
    "sound_url = 'alert_sound1.wav'\n",
    "image_url = 'https://cdn.pixabay.com/photo/2023/09/04/08/54/sea-lion-8232312_1280.jpg'\n",
    "image_url = 'http://http://125.253.117.120:5001/get_image/052601_16092023.jpg'\n",
    "post_alert(fcm,\n",
    "           'Xin chúc mừng!', \n",
    "           'Nhà đã bị trộm :(', \n",
    "           sound_url,\n",
    "           image_url,\n",
    "           )"
   ]
  },
  {
   "cell_type": "code",
   "execution_count": null,
   "metadata": {},
   "outputs": [],
   "source": [
    "def post_alert(fcms, title, body, data=None):\n",
    "    message = messaging.MulticastMessage( \n",
    "                            notification = messaging.Notification( title=title, body=body), \n",
    "                            # android=messaging.AndroidConfig( priority='high', notification=messaging.AndroidNotification( sound=sound_path, image=image_url ), ), \n",
    "                            # apns=messaging.APNSConfig( payload=messaging.APNSPayload( aps=messaging.Aps( sound=sound_path ), ), ), \n",
    "                            tokens=fcms\n",
    "                            data = {\n",
    "                                \"Type\": \"Fire\" # \"Smoke\",...\n",
    "                                \"NotificationID\": \"12345\" \n",
    "                            }\n",
    "                            )\n",
    "    # Gửi thông báo đến thiết bị cụ thể\n",
    "    response = messaging.send_multicast(message)\n",
    "    if response.failure_count==0:\n",
    "        print(\"Gửi thông báo thành công!\")\n",
    "    else:\n",
    "        print(f\"Gửi thành công {response.success_count}, thất bại {response.failure_count}\")"
   ]
  }
 ],
 "metadata": {
  "kernelspec": {
   "display_name": "pose",
   "language": "python",
   "name": "python3"
  },
  "language_info": {
   "codemirror_mode": {
    "name": "ipython",
    "version": 3
   },
   "file_extension": ".py",
   "mimetype": "text/x-python",
   "name": "python",
   "nbconvert_exporter": "python",
   "pygments_lexer": "ipython3",
   "version": "3.10.9"
  },
  "orig_nbformat": 4
 },
 "nbformat": 4,
 "nbformat_minor": 2
}
