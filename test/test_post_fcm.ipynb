{
 "cells": [
  {
   "cell_type": "code",
   "execution_count": 1,
   "metadata": {},
   "outputs": [
    {
     "data": {
      "text/plain": [
       "<firebase_admin.App at 0x1922e54a320>"
      ]
     },
     "execution_count": 1,
     "metadata": {},
     "output_type": "execute_result"
    }
   ],
   "source": [
    "import firebase_admin, cv2, requests\n",
    "from firebase_admin import credentials, messaging\n",
    "# Khởi tạo Firebase Admin SDK với tệp google-services.json bạn đã tải xuống\n",
    "cred = credentials.Certificate('D:/Code/Pose/YOLOv8/test/ngocvinaai-firebase-adminsdk-57cev-b988d1a956.json')\n",
    "firebase_admin.initialize_app(cred)"
   ]
  },
  {
   "cell_type": "code",
   "execution_count": 14,
   "metadata": {},
   "outputs": [],
   "source": [
    "fcm = 'dPGf0RTVTGWfVEKcKzzJYM:APA91bGX1l6e1OHDuKWv94zmOB0uStplKowsNH4bUpI0TC8s8aGn41y84Szp1mHVz_R6uv_1fJ4baLS7rxMpJlCOyvKMxed9GHDd6jJHnmi703ZLxcqRxu9x6ODSEsc4dH23nxqj1gG5'\n",
    "fcm = 'emg2r_mnSZ2ryuQBjg9DQg:APA91bEEhzbPXssOQ3HYtH-moswV2SVg60PcglWiEjJGK0VZufZSF53qz4OdxkWmk6jfBNxxIIiV0ZI1QWNxQZcmZ3OoIrZDC8pC8QzR1TXUotGf2A5NcwqkP2fXHbXYV-uI-jKSNFr8'\n"
   ]
  },
  {
   "cell_type": "code",
   "execution_count": 5,
   "metadata": {},
   "outputs": [],
   "source": [
    "fcm = ['cNNsk6g_Reqqb_mvIcwKco:APA91bFNHbvoRCD8txV9DiZrYHRT3gqW9hCAYazPiykb6L-YRwd59QImMcQpg7UgFcpaI9i3CTJiNvxLYfxWfMdlnYS851YYMIezdae6sB9x1Rt0tv12J0JZSzG4kFym8s2seVqp1PAV',\n",
    "        'emg2r_mnSZ2ryuQBjg9DQg:APA91bEEhzbPXssOQ3HYtH-moswV2SVg60PcglWiEjJGK0VZufZSF53qz4OdxkWmk6jfBNxxIIiV0ZI1QWNxQZcmZ3OoIrZDC8pC8QzR1TXUotGf2A5NcwqkP2fXHbXYV-uI-jKSNFr8']"
   ]
  },
  {
   "cell_type": "code",
   "execution_count": 15,
   "metadata": {},
   "outputs": [
    {
     "name": "stdout",
     "output_type": "stream",
     "text": [
      "Thông báo đẩy đã được gửi thành công.\n"
     ]
    }
   ],
   "source": [
    "def post_alert(fcm_list, title, body, sound_url=None, image_url=None):\n",
    "    for fcm in fcm_list:\n",
    "        # Đường dẫn API FCM\n",
    "        url = 'https://fcm.googleapis.com/fcm/send'\n",
    "        \n",
    "        # Đặt thông báo đẩy\n",
    "        payload = {\n",
    "            'to': fcm,\n",
    "            'notification': {\n",
    "                'title': title,\n",
    "                'body': body,\n",
    "                'sound': sound_url,\n",
    "                'image': image_url,\n",
    "                'color': '#614EEC',\n",
    "            },\n",
    "            # 'image': 'https://www.newshub.co.nz/home/lifestyle/2019/08/the-top-five-cat-memes-of-all-time-rated/_jcr_content/par/video/image.dynimg.1280.q75.jpg/v1565234972425/KNOWYOURMEME-sad-cat-crying-1120.jpg'\n",
    "\n",
    "        }\n",
    "        \n",
    "        # Thêm dữ liệu tùy chỉnh (nếu có)\n",
    "        if sound_url:\n",
    "            payload['notification']['sound'] = sound_url\n",
    "        \n",
    "        # Đặt tiêu đề của thông báo gửi tới FCM\n",
    "        headers = {\n",
    "            'Authorization': 'Key=AAAAUM0_kA0:APA91bFq6fvEmRIHZrF4VYTpTcsZHDo_bXvfm1jearG3A8BuNh_pEHtQtYhfGkbDkzsPm_lEwSh-t1LKB50c89wTaEs6N_RAqw7-JhNoUgmA_S5XyNA63E9MICw19QGwCSshw_o_sefG',\n",
    "            'Content-Type': 'application/json'\n",
    "        }\n",
    "        \n",
    "        response = requests.post(url, json=payload, headers=headers)\n",
    "        if response.status_code == 200:\n",
    "            print('Thông báo đẩy đã được gửi thành công.')\n",
    "        else:\n",
    "            print('Gửi thông báo đẩy không thành công. Mã lỗi:', response.status_code)\n",
    "            \n",
    "sound_url = 'alert_sound1.wav'\n",
    "image_url = 'https://cdn.pixabay.com/photo/2023/09/04/08/54/sea-lion-8232312_1280.jpg'\n",
    "post_alert([fcm],\n",
    "           'Xin chúc mừng!', \n",
    "           'Nhà đã bị trộm :(', \n",
    "           sound_url,\n",
    "           image_url,\n",
    "           )"
   ]
  },
  {
   "cell_type": "code",
   "execution_count": 9,
   "metadata": {},
   "outputs": [
    {
     "name": "stdout",
     "output_type": "stream",
     "text": [
      "Successfully sent message: <firebase_admin.messaging.BatchResponse object at 0x000001922E54A230>\n"
     ]
    }
   ],
   "source": [
    "sound_path = 'asset://sounds/alert_sound.mp3'\n",
    "sound_path = 'asset://sounds/alert_sound.caf'\n",
    "# sound_path = 'alert_sound'\n",
    "image_url = 'https://cdn.pixabay.com/photo/2023/09/04/08/54/sea-lion-8232312_1280.jpg'\n",
    "message = messaging.MulticastMessage( \n",
    "                            notification = messaging.Notification( title='Code 2', body='Nhà đã bị trộm :(' ), \n",
    "                            android=messaging.AndroidConfig( priority='high', notification=messaging.AndroidNotification( sound=sound_path, image=image_url ), ), \n",
    "                            # apns=messaging.APNSConfig( payload=messaging.APNSPayload( aps=messaging.Aps( sound=sound_path ), ), ), \n",
    "                            tokens=fcm\n",
    "                            )\n",
    "# Gửi thông báo đến thiết bị cụ thể\n",
    "response = messaging.send_multicast(message)\n",
    "\n",
    "print('Successfully sent message:', response)\n",
    "\n"
   ]
  },
  {
   "cell_type": "code",
   "execution_count": 14,
   "metadata": {},
   "outputs": [
    {
     "data": {
      "text/plain": [
       "0"
      ]
     },
     "execution_count": 14,
     "metadata": {},
     "output_type": "execute_result"
    }
   ],
   "source": [
    "response.failure_count"
   ]
  }
 ],
 "metadata": {
  "kernelspec": {
   "display_name": "pose",
   "language": "python",
   "name": "python3"
  },
  "language_info": {
   "codemirror_mode": {
    "name": "ipython",
    "version": 3
   },
   "file_extension": ".py",
   "mimetype": "text/x-python",
   "name": "python",
   "nbconvert_exporter": "python",
   "pygments_lexer": "ipython3",
   "version": "3.10.9"
  },
  "orig_nbformat": 4
 },
 "nbformat": 4,
 "nbformat_minor": 2
}
